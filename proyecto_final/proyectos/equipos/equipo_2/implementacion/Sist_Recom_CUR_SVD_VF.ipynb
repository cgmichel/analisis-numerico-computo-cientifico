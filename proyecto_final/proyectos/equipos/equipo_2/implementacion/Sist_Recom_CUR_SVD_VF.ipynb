{
 "cells": [
  {
   "cell_type": "markdown",
   "metadata": {},
   "source": [
    "# Descomposición CUR"
   ]
  },
  {
   "cell_type": "markdown",
   "metadata": {},
   "source": [
    "### Carga de Librerías (Python 3.7)"
   ]
  },
  {
   "cell_type": "code",
   "execution_count": 5,
   "metadata": {},
   "outputs": [],
   "source": [
    "import pandas as pd\n",
    "import numpy as np\n",
    "from sklearn.model_selection import train_test_split\n",
    "from collections import Counter\n",
    "from numpy.linalg import svd\n",
    "from numpy.linalg import linalg\n",
    "from time import time\n",
    "import random"
   ]
  },
  {
   "cell_type": "markdown",
   "metadata": {},
   "source": [
    "### Importar archivo con calificaciones (ratings)"
   ]
  },
  {
   "cell_type": "code",
   "execution_count": 6,
   "metadata": {},
   "outputs": [],
   "source": [
    "# Conjunto de datos con un millón de calificaciones (cifra redondeada)\n",
    "ratings = pd.read_csv(r'ratings_1m.csv')\n",
    "\n",
    "# Separar conjunto 75% entrenamiento y 25% validación, se usa train_test_split de sklearn\n",
    "train, test = train_test_split(ratings,test_size=0.25)"
   ]
  },
  {
   "cell_type": "markdown",
   "metadata": {},
   "source": [
    "### Mapeo de Usuarios y de Películas"
   ]
  },
  {
   "cell_type": "code",
   "execution_count": 7,
   "metadata": {},
   "outputs": [],
   "source": [
    "# El mapeo lo que hace es tener un id consecutivo y único de usuarios y de películas\n",
    "# La tabla original de películas no tiene id consecutivos\n",
    "\n",
    "lista_pelic = ratings['movieId'].unique()\n",
    "num_pelic = len(lista_pelic)\n",
    "mapeo_pelic = {}\n",
    "for n, m in enumerate(lista_pelic):\n",
    "    mapeo_pelic[m] = n\n",
    "lista_usuarios = ratings['userId'].unique()\n",
    "num_usuarios = len(lista_usuarios)\n",
    "mapeo_usuarios = {}\n",
    "for n, m in enumerate(lista_usuarios):\n",
    "    mapeo_usuarios[m] = n"
   ]
  },
  {
   "cell_type": "markdown",
   "metadata": {},
   "source": [
    "### Creación de Matriz de usuarios y películas"
   ]
  },
  {
   "cell_type": "code",
   "execution_count": 8,
   "metadata": {},
   "outputs": [],
   "source": [
    "matriz_uspl = np.zeros([num_usuarios, num_pelic])\n",
    "for index, row in ratings.iterrows():\n",
    "    matriz_uspl[mapeo_usuarios[row['userId']], mapeo_pelic[row['movieId']]] = int(row['rating'])\n",
    "\n",
    "# Se guarda una copia como Data Frame\n",
    "matriz_df = pd.DataFrame(matriz_uspl)    "
   ]
  },
  {
   "cell_type": "markdown",
   "metadata": {},
   "source": [
    "### Descomposición CUR"
   ]
  },
  {
   "cell_type": "code",
   "execution_count": 9,
   "metadata": {},
   "outputs": [],
   "source": [
    "# Se contabiliza el tiempo de procesamiento para la Descomposición CUR\n",
    "tiempo_inicio = time()\n",
    "\n",
    "# Cálculo de los promedios de las calificaciones de cada usuario\n",
    "prom_usr = matriz_uspl.sum(axis=1)\n",
    "aux = Counter(matriz_uspl.nonzero()[0])\n",
    "for i in range(num_usuarios):\n",
    "    if i in aux.keys():\n",
    "        prom_usr[i] = prom_usr[i]/aux[i]\n",
    "    else:\n",
    "        prom_usr[i] = 0\n",
    "\n",
    "# Cálculo de los promedios de las calificaciones por película\n",
    "prom_pelic = matriz_uspl.T.sum(axis=1)\n",
    "aux = Counter(matriz_uspl.T.nonzero()[0])\n",
    "for i in range(num_pelic):\n",
    "    if i in aux.keys():\n",
    "        prom_pelic[i] = prom_pelic[i]/aux[i]\n",
    "    else:\n",
    "        prom_pelic[i] = 0\n",
    "\n",
    "# Se calculan las probabilidades de seleccionar columnas y renglones\n",
    "total_norm =  np.linalg.norm(matriz_uspl)  # Calcula la norma de la matriz de usuarios y películas\n",
    "col_norm =  np.linalg.norm(matriz_uspl,axis = 0) #calcula la norma del vector columna\n",
    "row_norm =  np.linalg.norm(matriz_uspl,axis = 1) #calcula la norma del vector renglón\n",
    "\n",
    "for i in range(num_pelic):\n",
    "    col_norm[i] = (col_norm[i]/total_norm)**2\n",
    "    \n",
    "for i in range(num_usuarios):\n",
    "    row_norm[i] = (row_norm[i]/total_norm)**2\n",
    "\n",
    "# Con las probabilidades calculadas se seleccionan las columnas aleatoriamente y sin duplicar\n",
    "\n",
    "# Para el conjunto de datos de 100,000 calificaciones se reducirá a 90 columnas\n",
    "# Se hicieron pruebas con números más grandes, la SVD no convergía\n",
    "# Para el conjunto de datos de 1,000,000 calificaciones se reducirá a 800 columnas\n",
    "\n",
    "c=800\n",
    "col_selec = []\n",
    "C = np.zeros([num_usuarios,c])\n",
    "col_selec = random.sample(range(num_pelic-1),800)\n",
    "    \n",
    "for i in range(800):\n",
    "    x = col_selec[i]\n",
    "    p = col_norm[x]\n",
    "    d = np.sqrt(c*p)\n",
    "    C[:,i] = matriz_df.loc[:,x]/d\n",
    "    i = i + 1\n",
    "\n",
    "# Con las probabilidades calculadas se seleccionan los renglones aleatoriamente y sin duplicar\n",
    "# Para el conjunto de datos de 100,000 calificaciones se reducirá a 90 renglones\n",
    "    \n",
    "r=800\n",
    "ren_selec = []\n",
    "R = np.zeros([num_pelic,r])\n",
    "ren_selec = random.sample(range(num_usuarios-1),800)\n",
    "\n",
    "for i in range(800):\n",
    "    x = ren_selec[i]\n",
    "    p = row_norm[x]\n",
    "    d = np.sqrt(r*p)\n",
    "    R[:,i] = matriz_df.T.loc[:,x]/d\n",
    "    i = i + 1\n",
    "    \n",
    "# La matriz U es construida de W por la pseudoinversa de Moore-Penrose\n",
    "\n",
    "W = C[ren_selec,:]\n",
    "W1, W_cur, W2 = svd(W)\n",
    "W_cur = np.diag(W_cur)\n",
    "for i in range(W_cur.shape[0]):\n",
    "    W_cur[i][i] = 1/W_cur[i][i]\n",
    "U = np.dot(np.dot(W2.T, W_cur**2), W1.T)\n",
    "CUR = np.dot(np.dot(C, U), R.T)\n",
    "\n",
    "CUR_df = pd.DataFrame\n",
    "# El rango de calificaciones va de 0 a 5, sin embargo, hay casos menores al primero\n",
    "# y mayores al segundo. Los menores a 0 se cambian por 0 y los mayores a 5 por 5\n",
    "\n",
    "for i in range(CUR.shape[0]):\n",
    "    for j in range(CUR.shape[1]):\n",
    "        if CUR[i,j] > 5:\n",
    "            CUR[i,j] = 5\n",
    "        elif CUR[i,j] < 0:\n",
    "            CUR[i,j] = 0\n",
    "tiempo_fin = time()"
   ]
  },
  {
   "cell_type": "markdown",
   "metadata": {},
   "source": [
    "#### Función para cálculo de Error Cuadrático Medio (RMSE)"
   ]
  },
  {
   "cell_type": "code",
   "execution_count": 10,
   "metadata": {},
   "outputs": [],
   "source": [
    "# Error Cuadrático Medio (RMSE)\n",
    "def ECM(pred,original):\n",
    "    N = pred.shape[0] # filas\n",
    "    M = pred.shape[1] # columnas\n",
    "    cur_sum = np.sum(np.square(pred-original))\n",
    "    return np.sqrt(cur_sum/(N*M))"
   ]
  },
  {
   "cell_type": "markdown",
   "metadata": {},
   "source": [
    "#### Función para cálculo de Coeficiente de Correlación de Spearman (rho)"
   ]
  },
  {
   "cell_type": "markdown",
   "metadata": {},
   "source": [
    "En estadística, el coeficiente de correlación de Spearman, $\\rho$  es una medida de correlación\n",
    "El estadístico $\\rho$ viene dado por la expresión:\n",
    "$$ \\rho = 1 - \\frac{6 \\Sigma D^2}{N(N^2-1)} $$\n",
    "donde D es la diferencia entre los correspondientes estadísticos de orden x-y. N es el número de parejas de datos\n",
    "\n",
    "La correlación de Spearman evalúa relaciones monótonas (sean lineales o no). \n",
    "\n",
    "En matemáticas una función entre conjuntos ordenados se dice monótona si conserva el orden dado\n",
    "\n",
    "Intiuitivamente, la correlación de Spearman entre dos observaciones será alta (correlación cercana a 1) cuando las observaciones tengan un rango similar"
   ]
  },
  {
   "cell_type": "code",
   "execution_count": 11,
   "metadata": {},
   "outputs": [],
   "source": [
    "# Coeficiente de correlación de Spearman (rho)\n",
    "def rho(pred, original):\n",
    "    num = np.sum(np.square(pred - original))\n",
    "    n = pred.shape[0]*pred.shape[1]\n",
    "    den = n*(n*n-1)\n",
    "    return 1 - (6*num)/den"
   ]
  },
  {
   "cell_type": "markdown",
   "metadata": {},
   "source": [
    "### Resultados Descomposición CUR"
   ]
  },
  {
   "cell_type": "code",
   "execution_count": 12,
   "metadata": {},
   "outputs": [
    {
     "name": "stdout",
     "output_type": "stream",
     "text": [
      "Error Cuadrático Medio 3.199002524365957\n",
      "Coeficiente de correlación de Spearman 0.9999999999998774\n",
      "Tiempo de procesamiento en segundos 28.94983696937561\n"
     ]
    }
   ],
   "source": [
    "print(\"Error Cuadrático Medio\", ECM(CUR, matriz_uspl))\n",
    "print(\"Coeficiente de correlación de Spearman\", rho(CUR, matriz_uspl))\n",
    "print(\"Tiempo de procesamiento en segundos\", tiempo_fin - tiempo_inicio)"
   ]
  },
  {
   "cell_type": "markdown",
   "metadata": {},
   "source": [
    "### Descomposición en Valores Singulares (SVD)"
   ]
  },
  {
   "cell_type": "markdown",
   "metadata": {},
   "source": [
    "#### Cálculo de Eigen Valores y Eigen Vectores"
   ]
  },
  {
   "cell_type": "code",
   "execution_count": 13,
   "metadata": {},
   "outputs": [],
   "source": [
    "tiempo_inicial_SVD = time()\n",
    "m1 = np.dot(matriz_uspl, matriz_uspl.T)\n",
    "eigenValues, eigenVectors = linalg.eig(m1)\n",
    "eigenValues = eigenValues.real\n",
    "eigenVectors = eigenVectors.real\n",
    "eigen_map = dict()\n",
    "for i in range(len(eigenValues)):\n",
    "\teigenValues[i] = round(eigenValues[i], 4)\n",
    "for i in range(len(eigenValues)):\n",
    "    if eigenValues[i] != 0:\n",
    "        eigen_map[eigenValues[i]] = eigenVectors[:, i]\n",
    "\n",
    "eigenValues = sorted(eigen_map.keys(), reverse=True)\n",
    "U = np.zeros_like(eigenVectors)\n",
    "for i in range(len(eigenValues)):\n",
    "    U[:,i] = eigen_map[eigenValues[i]]\n",
    "U = U[:,:len(eigenValues)]"
   ]
  },
  {
   "cell_type": "markdown",
   "metadata": {},
   "source": [
    "#### Cálculo de Sigma"
   ]
  },
  {
   "cell_type": "code",
   "execution_count": 14,
   "metadata": {},
   "outputs": [],
   "source": [
    "Sigma = np.diag([i**0.5 for i in eigenValues])"
   ]
  },
  {
   "cell_type": "markdown",
   "metadata": {},
   "source": [
    "#### Cálculo de V"
   ]
  },
  {
   "cell_type": "code",
   "execution_count": 15,
   "metadata": {},
   "outputs": [],
   "source": [
    "m2 = np.dot(matriz_uspl.T, matriz_uspl)\n",
    "eigenValues, eigenVectors = linalg.eig(m2)\n",
    "eigenValues = eigenValues.real\n",
    "eigenVectors = eigenVectors.real\n",
    "for i in range(len(eigenValues)):\n",
    "\teigenValues[i] = round(eigenValues[i], 4)\n",
    "eigen_map = dict()\n",
    "for i in range(len(eigenValues)):\n",
    "    if eigenValues[i] != 0:\n",
    "        eigen_map[eigenValues[i]] = eigenVectors[:, i]\n",
    "eigenValues = sorted(eigen_map.keys(), reverse=True)\n",
    "V = np.zeros_like(eigenVectors)\n",
    "for i in range(len(eigenValues)):\n",
    "    V[:,i] = eigen_map[eigenValues[i]]\n",
    "V = V[:,:len(eigenValues)]\n",
    "V = V.T\n",
    "\n",
    "t_aux_1 = time()"
   ]
  },
  {
   "cell_type": "markdown",
   "metadata": {},
   "source": [
    "#### Cálculo SVD con 100% de energía"
   ]
  },
  {
   "cell_type": "code",
   "execution_count": 16,
   "metadata": {},
   "outputs": [],
   "source": [
    "shape = Sigma.shape\n",
    "SVD100 = np.dot(np.dot(U,Sigma),V)\n",
    "t_final_SVD100 = time()"
   ]
  },
  {
   "cell_type": "markdown",
   "metadata": {},
   "source": [
    "### Resultados SVD 100% de energía"
   ]
  },
  {
   "cell_type": "code",
   "execution_count": 17,
   "metadata": {},
   "outputs": [
    {
     "name": "stdout",
     "output_type": "stream",
     "text": [
      "Error Cuadrático Medio SVD 100% 0.9931917152158468\n",
      "Coeficiente de correlación de Spearman 0.9999999999999882\n",
      "Tiempo de procesamiento en segundos SVD 100% 270.87736439704895\n"
     ]
    }
   ],
   "source": [
    "print(\"Error Cuadrático Medio SVD 100%\", ECM(SVD100, matriz_uspl))\n",
    "print(\"Coeficiente de correlación de Spearman\", rho(SVD100, matriz_uspl))\n",
    "print(\"Tiempo de procesamiento en segundos SVD 100%\", t_final_SVD100 - tiempo_inicial_SVD)"
   ]
  },
  {
   "cell_type": "markdown",
   "metadata": {},
   "source": [
    "#### Cálculo SVD con retención del 90% de la energía"
   ]
  },
  {
   "cell_type": "code",
   "execution_count": 18,
   "metadata": {},
   "outputs": [],
   "source": [
    "# Una regla de dedo es retener suficientes valores singulares para representar el 90% de energía\n",
    "\n",
    "suma_total = 0\n",
    "dimensions = Sigma.shape[0]\n",
    "\n",
    "# Calcula el cuadrado de la suma de todas las diagonales\n",
    "for i in range(dimensions):\n",
    "    suma_total = suma_total + np.square(Sigma[i,i])\t\n",
    "retencion = suma_total\n",
    "while dimensions > 0:\n",
    "\tretencion = retencion - np.square(Sigma[dimensions-1,dimensions-1])\n",
    "\tif retencion/suma_total < 0.9:\t# Retención del 90% de energía\n",
    "\t\tbreak\n",
    "\telse:\n",
    "\t\tU = U[:,:-1:]\n",
    "\t\tV = V[:-1,:]\n",
    "\t\tSigma = Sigma[:,:-1]\n",
    "\t\tSigma = Sigma[:-1,:]\n",
    "\t\tdimensions = dimensions - 1\t# reducción de dimensionalidad\n",
    "t_aux_2 = time()\n",
    "\n",
    "SVD90 = np.dot(np.dot(U,Sigma),V)\n",
    "t_final_SVD90 = time()"
   ]
  },
  {
   "cell_type": "markdown",
   "metadata": {},
   "source": [
    "### Resultados SVD con retención del 90% de la energía"
   ]
  },
  {
   "cell_type": "code",
   "execution_count": 19,
   "metadata": {},
   "outputs": [
    {
     "name": "stdout",
     "output_type": "stream",
     "text": [
      "Error Cuadrático Medio SVD 90% 0.9613340042443517\n",
      "Coeficiente de correlación de Spearman SVD 90% 0.9999999999999889\n",
      "Tiempo de procesamiento en segundos SVD 90% 266.4422335624695\n"
     ]
    }
   ],
   "source": [
    "print(\"Error Cuadrático Medio SVD 90%\", ECM(SVD90, matriz_uspl))\n",
    "print(\"Coeficiente de correlación de Spearman SVD 90%\", rho(SVD90, matriz_uspl))\n",
    "print(\"Tiempo de procesamiento en segundos SVD 90%\",t_final_SVD90 - t_aux_2 + t_aux_1 - tiempo_inicial_SVD)"
   ]
  },
  {
   "cell_type": "markdown",
   "metadata": {},
   "source": [
    "### Pruebas con distintos tamaños de matrices para Descomposición CUR"
   ]
  },
  {
   "cell_type": "code",
   "execution_count": 20,
   "metadata": {},
   "outputs": [
    {
     "name": "stderr",
     "output_type": "stream",
     "text": [
      "C:\\Users\\IkerOlivo\\Anaconda3\\lib\\site-packages\\ipykernel_launcher.py:280: RuntimeWarning: divide by zero encountered in double_scalars\n"
     ]
    }
   ],
   "source": [
    "# Pruebas con matrices de distintos tamaños (3,500 columnas y renglones)\n",
    "\n",
    "c=3500\n",
    "col_selec = []\n",
    "C = np.zeros([num_usuarios,c])\n",
    "col_selec = random.sample(range(num_pelic-1),3500)\n",
    "    \n",
    "for i in range(3500):\n",
    "    x = col_selec[i]\n",
    "    p = col_norm[x]\n",
    "    d = np.sqrt(c*p)\n",
    "    C[:,i] = matriz_df.loc[:,x]/d\n",
    "    i = i + 1\n",
    "   \n",
    "r=3500\n",
    "ren_selec = []\n",
    "R = np.zeros([num_pelic,r])\n",
    "ren_selec = random.sample(range(num_usuarios-1),3500)\n",
    "\n",
    "for i in range(3500):\n",
    "    x = ren_selec[i]\n",
    "    p = row_norm[x]\n",
    "    d = np.sqrt(r*p)\n",
    "    R[:,i] = matriz_df.T.loc[:,x]/d\n",
    "    i = i + 1\n",
    "    \n",
    "# La matriz U es construida de W por la pseudoinversa de Moore-Penrose\n",
    "\n",
    "W = C[ren_selec,:]\n",
    "W1, W_cur, W2 = svd(W)\n",
    "W_cur = np.diag(W_cur)\n",
    "for i in range(W_cur.shape[0]):\n",
    "    W_cur[i][i] = 1/W_cur[i][i]\n",
    "U = np.dot(np.dot(W2.T, W_cur**2), W1.T)\n",
    "CUR_3500 = np.dot(np.dot(C, U), R.T)\n",
    "\n",
    "# El rango de calificaciones va de 0 a 5, sin embargo, hay casos menores al primero\n",
    "# y mayores al segundo. Los menores a 0 se cambian por 0 y los mayores a 5 por 5\n",
    "\n",
    "for i in range(CUR_3500.shape[0]):\n",
    "    for j in range(CUR_3500.shape[1]):\n",
    "        if CUR_3500[i,j] > 5:\n",
    "            CUR_3500[i,j] = 5\n",
    "        elif CUR_3500[i,j] < 0:\n",
    "            CUR_3500[i,j] = 0\n",
    "            \n",
    "# Pruebas con matrices de distintos tamaños (3,000 columnas y renglones)\n",
    "\n",
    "c=3000\n",
    "col_selec = []\n",
    "C = np.zeros([num_usuarios,c])\n",
    "col_selec = random.sample(range(num_pelic-1),3000)\n",
    "    \n",
    "for i in range(3000):\n",
    "    x = col_selec[i]\n",
    "    p = col_norm[x]\n",
    "    d = np.sqrt(c*p)\n",
    "    C[:,i] = matriz_df.loc[:,x]/d\n",
    "    i = i + 1\n",
    "   \n",
    "r=3000\n",
    "ren_selec = []\n",
    "R = np.zeros([num_pelic,r])\n",
    "ren_selec = random.sample(range(num_usuarios-1),3000)\n",
    "\n",
    "for i in range(3000):\n",
    "    x = ren_selec[i]\n",
    "    p = row_norm[x]\n",
    "    d = np.sqrt(r*p)\n",
    "    R[:,i] = matriz_df.T.loc[:,x]/d\n",
    "    i = i + 1\n",
    "    \n",
    "# La matriz U es construida de W por la pseudoinversa de Moore-Penrose\n",
    "\n",
    "W = C[ren_selec,:]\n",
    "W1, W_cur, W2 = svd(W)\n",
    "W_cur = np.diag(W_cur)\n",
    "for i in range(W_cur.shape[0]):\n",
    "    W_cur[i][i] = 1/W_cur[i][i]\n",
    "U = np.dot(np.dot(W2.T, W_cur**2), W1.T)\n",
    "CUR_3000 = np.dot(np.dot(C, U), R.T)\n",
    "\n",
    "# El rango de calificaciones va de 0 a 5, sin embargo, hay casos menores al primero\n",
    "# y mayores al segundo. Los menores a 0 se cambian por 0 y los mayores a 5 por 5\n",
    "\n",
    "for i in range(CUR_3000.shape[0]):\n",
    "    for j in range(CUR_3000.shape[1]):\n",
    "        if CUR_3000[i,j] > 5:\n",
    "            CUR_3000[i,j] = 5\n",
    "        elif CUR_3000[i,j] < 0:\n",
    "            CUR_3000[i,j] = 0\n",
    "            \n",
    "#print(\"\\nDescomposición CUR matriz 3000 columnas y renglones\")\n",
    "#print(\"Error Cuadrático Medio\", ECM(CUR_3000, matriz_uspl))\n",
    "#print(\"Coeficiente de correlación de Spearman\", rho(CUR_3000, matriz_uspl))\n",
    "\n",
    "# Pruebas con matrices de distintos tamaños (1,200 columnas y renglones)\n",
    "\n",
    "c=1200\n",
    "col_selec = []\n",
    "C = np.zeros([num_usuarios,c])\n",
    "col_selec = random.sample(range(num_pelic-1),1200)\n",
    "    \n",
    "for i in range(1200):\n",
    "    x = col_selec[i]\n",
    "    p = col_norm[x]\n",
    "    d = np.sqrt(c*p)\n",
    "    C[:,i] = matriz_df.loc[:,x]/d\n",
    "    i = i + 1\n",
    "   \n",
    "r=1200\n",
    "ren_selec = []\n",
    "R = np.zeros([num_pelic,r])\n",
    "ren_selec = random.sample(range(num_usuarios-1),1200)\n",
    "\n",
    "for i in range(1200):\n",
    "    x = ren_selec[i]\n",
    "    p = row_norm[x]\n",
    "    d = np.sqrt(r*p)\n",
    "    R[:,i] = matriz_df.T.loc[:,x]/d\n",
    "    i = i + 1\n",
    "    \n",
    "# La matriz U es construida de W por la pseudoinversa de Moore-Penrose\n",
    "\n",
    "W = C[ren_selec,:]\n",
    "W1, W_cur, W2 = svd(W)\n",
    "W_cur = np.diag(W_cur)\n",
    "for i in range(W_cur.shape[0]):\n",
    "    W_cur[i][i] = 1/W_cur[i][i]\n",
    "U = np.dot(np.dot(W2.T, W_cur**2), W1.T)\n",
    "CUR_1200 = np.dot(np.dot(C, U), R.T)\n",
    "\n",
    "# El rango de calificaciones va de 0 a 5, sin embargo, hay casos menores al primero\n",
    "# y mayores al segundo. Los menores a 0 se cambian por 0 y los mayores a 5 por 5\n",
    "\n",
    "for i in range(CUR_1200.shape[0]):\n",
    "    for j in range(CUR_1200.shape[1]):\n",
    "        if CUR_1200[i,j] > 5:\n",
    "            CUR_1200[i,j] = 5\n",
    "        elif CUR_1200[i,j] < 0:\n",
    "            CUR_1200[i,j] = 0\n",
    "            \n",
    "#print(\"\\nDescomposición CUR matriz 1200 columnas y renglones\")\n",
    "#print(\"Error Cuadrático Medio\", ECM(CUR_1200, matriz_uspl))\n",
    "#print(\"Coeficiente de correlación de Spearman\", rho(CUR_1200, matriz_uspl))\n",
    "\n",
    "\n",
    "# Pruebas con matrices de distintos tamaños (400 columnas y renglones)\n",
    "\n",
    "c=400\n",
    "col_selec = []\n",
    "C = np.zeros([num_usuarios,c])\n",
    "col_selec = random.sample(range(num_pelic-1),400)\n",
    "    \n",
    "for i in range(400):\n",
    "    x = col_selec[i]\n",
    "    p = col_norm[x]\n",
    "    d = np.sqrt(c*p)\n",
    "    C[:,i] = matriz_df.loc[:,x]/d\n",
    "    i = i + 1\n",
    "   \n",
    "r=400\n",
    "ren_selec = []\n",
    "R = np.zeros([num_pelic,r])\n",
    "ren_selec = random.sample(range(num_usuarios-1),400)\n",
    "\n",
    "for i in range(400):\n",
    "    x = ren_selec[i]\n",
    "    p = row_norm[x]\n",
    "    d = np.sqrt(r*p)\n",
    "    R[:,i] = matriz_df.T.loc[:,x]/d\n",
    "    i = i + 1\n",
    "    \n",
    "# La matriz U es construida de W por la pseudoinversa de Moore-Penrose\n",
    "\n",
    "W = C[ren_selec,:]\n",
    "W1, W_cur, W2 = svd(W)\n",
    "W_cur = np.diag(W_cur)\n",
    "for i in range(W_cur.shape[0]):\n",
    "    W_cur[i][i] = 1/W_cur[i][i]\n",
    "U = np.dot(np.dot(W2.T, W_cur**2), W1.T)\n",
    "CUR_2 = np.dot(np.dot(C, U), R.T)\n",
    "\n",
    "# El rango de calificaciones va de 0 a 5, sin embargo, hay casos menores al primero\n",
    "# y mayores al segundo. Los menores a 0 se cambian por 0 y los mayores a 5 por 5\n",
    "\n",
    "for i in range(CUR_2.shape[0]):\n",
    "    for j in range(CUR_2.shape[1]):\n",
    "        if CUR_2[i,j] > 5:\n",
    "            CUR_2[i,j] = 5\n",
    "        elif CUR_2[i,j] < 0:\n",
    "            CUR_2[i,j] = 0\n",
    "            \n",
    "#print(\"\\nDescomposición CUR matriz 400 columnas y renglones\")\n",
    "#print(\"Error Cuadrático Medio\", ECM(CUR_2, matriz_uspl))\n",
    "#print(\"Coeficiente de correlación de Spearman\", rho(CUR_2, matriz_uspl))\n",
    "\n",
    "# Pruebas con matrices de distintos tamaños (50 columnas y renglones)\n",
    "\n",
    "c=50\n",
    "col_selec = []\n",
    "C = np.zeros([num_usuarios,c])\n",
    "col_selec = random.sample(range(num_pelic-1),50)\n",
    "    \n",
    "for i in range(50):\n",
    "    x = col_selec[i]\n",
    "    p = col_norm[x]\n",
    "    d = np.sqrt(c*p)\n",
    "    C[:,i] = matriz_df.loc[:,x]/d\n",
    "    i = i + 1\n",
    "   \n",
    "r=50\n",
    "ren_selec = []\n",
    "R = np.zeros([num_pelic,r])\n",
    "ren_selec = random.sample(range(num_usuarios-1),50)\n",
    "\n",
    "for i in range(50):\n",
    "    x = ren_selec[i]\n",
    "    p = row_norm[x]\n",
    "    d = np.sqrt(r*p)\n",
    "    R[:,i] = matriz_df.T.loc[:,x]/d\n",
    "    i = i + 1\n",
    "    \n",
    "# La matriz U es construida de W por la pseudoinversa de Moore-Penrose\n",
    "\n",
    "W = C[ren_selec,:]\n",
    "W1, W_cur, W2 = svd(W)\n",
    "W_cur = np.diag(W_cur)\n",
    "for i in range(W_cur.shape[0]):\n",
    "    W_cur[i][i] = 1/W_cur[i][i]\n",
    "U = np.dot(np.dot(W2.T, W_cur**2), W1.T)\n",
    "CUR_3 = np.dot(np.dot(C, U), R.T)\n",
    "\n",
    "# El rango de calificaciones va de 0 a 5, sin embargo, hay casos menores al primero\n",
    "# y mayores al segundo. Los menores a 0 se cambian por 0 y los mayores a 5 por 5\n",
    "\n",
    "for i in range(CUR_3.shape[0]):\n",
    "    for j in range(CUR_3.shape[1]):\n",
    "        if CUR_3[i,j] > 5:\n",
    "            CUR_3[i,j] = 5\n",
    "        elif CUR_3[i,j] < 0:\n",
    "            CUR_3[i,j] = 0\n",
    "            \n",
    "#print(\"\\nDescomposición CUR matriz 50 columnas y renglones\")\n",
    "#print(\"Error Cuadrático Medio\", ECM(CUR_3, matriz_uspl))\n",
    "#print(\"Coeficiente de correlación de Spearman\", rho(CUR_3, matriz_uspl))\n",
    "\n",
    "# Pruebas con matrices de distintos tamaños (10 columnas y renglones)\n",
    "\n",
    "c=10\n",
    "col_selec = []\n",
    "C = np.zeros([num_usuarios,c])\n",
    "col_selec = random.sample(range(num_pelic-1),10)\n",
    "    \n",
    "for i in range(10):\n",
    "    x = col_selec[i]\n",
    "    p = col_norm[x]\n",
    "    d = np.sqrt(c*p)\n",
    "    C[:,i] = matriz_df.loc[:,x]/d\n",
    "    i = i + 1\n",
    "   \n",
    "r=10\n",
    "ren_selec = []\n",
    "R = np.zeros([num_pelic,r])\n",
    "ren_selec = random.sample(range(num_usuarios-1),10)\n",
    "\n",
    "for i in range(10):\n",
    "    x = ren_selec[i]\n",
    "    p = row_norm[x]\n",
    "    d = np.sqrt(r*p)\n",
    "    R[:,i] = matriz_df.T.loc[:,x]/d\n",
    "    i = i + 1\n",
    "    \n",
    "# La matriz U es construida de W por la pseudoinversa de Moore-Penrose\n",
    "\n",
    "W = C[ren_selec,:]\n",
    "W1, W_cur, W2 = svd(W)\n",
    "W_cur = np.diag(W_cur)\n",
    "for i in range(W_cur.shape[0]):\n",
    "    W_cur[i][i] = 1/W_cur[i][i]\n",
    "U = np.dot(np.dot(W2.T, W_cur**2), W1.T)\n",
    "CUR_4 = np.dot(np.dot(C, U), R.T)\n",
    "\n",
    "# El rango de calificaciones va de 0 a 5, sin embargo, hay casos menores al primero\n",
    "# y mayores al segundo. Los menores a 0 se cambian por 0 y los mayores a 5 por 5\n",
    "\n",
    "for i in range(CUR_4.shape[0]):\n",
    "    for j in range(CUR_4.shape[1]):\n",
    "        if CUR_4[i,j] > 5:\n",
    "            CUR_4[i,j] = 5\n",
    "        elif CUR_4[i,j] < 0:\n",
    "            CUR_4[i,j] = 0"
   ]
  },
  {
   "cell_type": "markdown",
   "metadata": {},
   "source": [
    "### Comparación Error Cuadrático Medio | Descomposición CUR"
   ]
  },
  {
   "cell_type": "code",
   "execution_count": 22,
   "metadata": {},
   "outputs": [
    {
     "name": "stdout",
     "output_type": "stream",
     "text": [
      "3500 Columnas y Renglones 3.369111258521977\n",
      "3000 Columnas y Renglones 3.369603640481926\n",
      "1200 Columnas y Renglones 3.284544624111253\n",
      "800 Columnas y Renglones 3.199002524365957\n",
      "400 Columnas y Renglones 3.0918480877407024\n",
      "50 Columnas y Renglones 1.851972265433165\n",
      "10 Columnas y Renglones nan\n"
     ]
    }
   ],
   "source": [
    "print(\"3500 Columnas y Renglones\", ECM(CUR_3500, matriz_uspl))\n",
    "print(\"3000 Columnas y Renglones\", ECM(CUR_3000, matriz_uspl))\n",
    "print(\"1200 Columnas y Renglones\", ECM(CUR_1200, matriz_uspl))\n",
    "print(\"800 Columnas y Renglones\", ECM(CUR, matriz_uspl))\n",
    "print(\"400 Columnas y Renglones\", ECM(CUR_2, matriz_uspl))\n",
    "print(\"50 Columnas y Renglones\", ECM(CUR_3, matriz_uspl))\n",
    "print(\"10 Columnas y Renglones\", ECM(CUR_4, matriz_uspl))"
   ]
  },
  {
   "cell_type": "markdown",
   "metadata": {},
   "source": [
    "### Comparación Coeficiente de Correlación de Spearman $\\rho$ | Descomposición CUR"
   ]
  },
  {
   "cell_type": "code",
   "execution_count": 23,
   "metadata": {},
   "outputs": [
    {
     "name": "stdout",
     "output_type": "stream",
     "text": [
      "\n",
      " Comparación Coeficiente de correlación de Spearman\n",
      "3500 Columnas y Renglones 0.9999999999998641\n",
      "3000 Columnas y Renglones 0.999999999999864\n",
      "1200 Columnas y Renglones 0.9999999999998708\n",
      "800 Columnas y Renglones 0.9999999999998774\n",
      "400 Columnas y Renglones 0.9999999999998855\n",
      "50 Columnas y Renglones 0.9999999999999589\n",
      "10 Columnas y Renglones nan\n"
     ]
    }
   ],
   "source": [
    "print(\"\\n Comparación Coeficiente de correlación de Spearman\")\n",
    "print(\"3500 Columnas y Renglones\", rho(CUR_3500, matriz_uspl))\n",
    "print(\"3000 Columnas y Renglones\", rho(CUR_3000, matriz_uspl))\n",
    "print(\"1200 Columnas y Renglones\", rho(CUR_1200, matriz_uspl))\n",
    "print(\"800 Columnas y Renglones\", rho(CUR, matriz_uspl))\n",
    "print(\"400 Columnas y Renglones\", rho(CUR_2, matriz_uspl))\n",
    "print(\"50 Columnas y Renglones\", rho(CUR_3, matriz_uspl))\n",
    "print(\"10 Columnas y Renglones\", rho(CUR_4, matriz_uspl))"
   ]
  }
 ],
 "metadata": {
  "kernelspec": {
   "display_name": "Python 3",
   "language": "python",
   "name": "python3"
  },
  "language_info": {
   "codemirror_mode": {
    "name": "ipython",
    "version": 3
   },
   "file_extension": ".py",
   "mimetype": "text/x-python",
   "name": "python",
   "nbconvert_exporter": "python",
   "pygments_lexer": "ipython3",
   "version": "3.7.1"
  }
 },
 "nbformat": 4,
 "nbformat_minor": 2
}
